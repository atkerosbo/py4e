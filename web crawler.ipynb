{
 "cells": [
  {
   "cell_type": "code",
   "execution_count": 58,
   "metadata": {},
   "outputs": [
    {
     "name": "stdout",
     "output_type": "stream",
     "text": [
      "Belgrade 9 °C Ведро са периодичним наоблачењем\n"
     ]
    }
   ],
   "source": [
    "# Making a GET request\n",
    "from requests_html import HTMLSession\n",
    "\n",
    "s = HTMLSession()\n",
    "query = input()\n",
    "URL = f'https://www.google.com/search?q=weather+{query}'\n",
    "#r = requests.get('https://www.nba.com/standings')\n",
    " \n",
    "# check status code for response received\n",
    "# success code - 200\n",
    "r = s.get (URL, headers = {'User-Agent': 'Mozilla/5.0 (Windows NT 10.0; Win64; x64) AppleWebKit/537.36 (KHTML, like Gecko) Chrome/108.0.0.0 Safari/537.36'\n",
    "})\n",
    "temp = r.html.find('span#wob_tm', first='True' ).text\n",
    "unit = r.html.find('div.vk_bk.wob-unit span.wob_t', first='True' ).text\n",
    "desc = r.html.find('span#wob_dc', first='True' ).text\n",
    "\n",
    "print(query, temp, unit, desc)"
   ]
  }
 ],
 "metadata": {
  "kernelspec": {
   "display_name": "Python 3",
   "language": "python",
   "name": "python3"
  },
  "language_info": {
   "codemirror_mode": {
    "name": "ipython",
    "version": 3
   },
   "file_extension": ".py",
   "mimetype": "text/x-python",
   "name": "python",
   "nbconvert_exporter": "python",
   "pygments_lexer": "ipython3",
   "version": "3.11.1 (tags/v3.11.1:a7a450f, Dec  6 2022, 19:58:39) [MSC v.1934 64 bit (AMD64)]"
  },
  "orig_nbformat": 4,
  "vscode": {
   "interpreter": {
    "hash": "c235f36f3d9a82e0362915df7b10d20fce8183911974bad85a5f06678512bd56"
   }
  }
 },
 "nbformat": 4,
 "nbformat_minor": 2
}
