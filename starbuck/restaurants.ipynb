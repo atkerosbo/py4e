{
 "cells": [
  {
   "cell_type": "code",
   "execution_count": 1,
   "metadata": {},
   "outputs": [],
   "source": [
    "from selenium import webdriver\n",
    "from selenium.webdriver.common.by import By\n",
    "from time import sleep\n",
    "import csv\n"
   ]
  },
  {
   "attachments": {},
   "cell_type": "markdown",
   "metadata": {},
   "source": [
    "mcdonalds"
   ]
  },
  {
   "cell_type": "code",
   "execution_count": 2,
   "metadata": {},
   "outputs": [],
   "source": [
    "\n",
    "driver = webdriver.Chrome() \n",
    "driver.get('https://www.mcdonalds.com/de/de-de/restaurant-suche.html/l/berlin');\n",
    "sleep(10) \n",
    "restaurantList = driver.find_elements(By.CLASS_NAME, \"ubsf_sitemap-location-address\")\n",
    "\n",
    "with open('Restaurants.csv', mode='a', newline='') as outputFile:\n",
    "    restaurantCSV = csv.writer(outputFile, delimiter=',', quotechar='\"', quoting = csv.QUOTE_MINIMAL)\n",
    "    #restaurantCSV.writerow(['restaurant', 'street', 'zip', 'city', 'country'])\n",
    "    restaurantName = 'McDonalds'\n",
    "    country = 'Germany'\n",
    "    for restaurant in restaurantList:\n",
    "        restaurant = restaurant.get_attribute('innerHTML')\n",
    "        street = restaurant.split(\",\")[0]\n",
    "        zipCode = restaurant.split(\",\")[1][1:6]\n",
    "        city = restaurant.split(\",\")[1][7:]\n",
    "        restaurantCSV.writerow([restaurantName, street, zipCode, city, country])\n",
    "        \n",
    "driver.close()"
   ]
  },
  {
   "attachments": {},
   "cell_type": "markdown",
   "metadata": {},
   "source": [
    "Subway"
   ]
  },
  {
   "cell_type": "code",
   "execution_count": null,
   "metadata": {},
   "outputs": [],
   "source": [
    "from selenium import webdriver\n",
    "from selenium.webdriver.common.by import By\n",
    "from time import sleep\n",
    "import csv\n",
    "\n",
    "driver = webdriver.Chrome() \n",
    "driver.get('https://restaurants.subway.com/de/deutschland/be/berlin');\n",
    "sleep(10) \n",
    "restaurantList = driver.find_elements(By.CLASS_NAME, \"Directory-listTeaser\")\n",
    "\n",
    "with open('Restaurants.csv', mode='a', newline='') as outputFile:\n",
    "    restaurantCSV = csv.writer(outputFile, delimiter=',', quotechar='\"', quoting = csv.QUOTE_MINIMAL)\n",
    "    #restaurantCSV.writerow(['restaurant', 'street', 'zip', 'city', 'country'])\n",
    "    restaurantName = 'Subway'\n",
    "    country = 'Germany'\n",
    "    for restaurant in restaurantList:\n",
    "        street = restaurant.find_element(By.CLASS_NAME, 'c-address-street-1').get_attribute('innerHTML')\n",
    "        zipCode = restaurant.find_element(By.CLASS_NAME, 'c-address-postal-code').get_attribute('innerHTML')\n",
    "        city = restaurant.find_element(By.CLASS_NAME, 'c-address-city').get_attribute('innerHTML')\n",
    "        restaurantCSV.writerow([restaurantName, street, zipCode, city, country])\n",
    "\n",
    "driver.close()"
   ]
  }
 ],
 "metadata": {
  "kernelspec": {
   "display_name": "Python 3",
   "language": "python",
   "name": "python3"
  },
  "language_info": {
   "codemirror_mode": {
    "name": "ipython",
    "version": 3
   },
   "file_extension": ".py",
   "mimetype": "text/x-python",
   "name": "python",
   "nbconvert_exporter": "python",
   "pygments_lexer": "ipython3",
   "version": "3.11.1 (tags/v3.11.1:a7a450f, Dec  6 2022, 19:58:39) [MSC v.1934 64 bit (AMD64)]"
  },
  "orig_nbformat": 4,
  "vscode": {
   "interpreter": {
    "hash": "c235f36f3d9a82e0362915df7b10d20fce8183911974bad85a5f06678512bd56"
   }
  }
 },
 "nbformat": 4,
 "nbformat_minor": 2
}
