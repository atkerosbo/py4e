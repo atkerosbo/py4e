{
 "cells": [
  {
   "cell_type": "code",
   "execution_count": null,
   "metadata": {},
   "outputs": [],
   "source": [
    "from selenium import webdriver\n",
    "from selenium.webdriver.common.keys import Keys\n",
    "from selenium.webdriver.common.by import By\n",
    "from time import sleep\n",
    "import csv"
   ]
  },
  {
   "attachments": {},
   "cell_type": "markdown",
   "metadata": {},
   "source": [
    "URL"
   ]
  },
  {
   "cell_type": "code",
   "execution_count": null,
   "metadata": {},
   "outputs": [],
   "source": [
    "starbucksUrl = 'https://www.starbucks.de/store-locator?types=starbucks'\n",
    "driver = webdriver.Chrome() \n",
    "driver.get(starbucksUrl);\n",
    "sleep(20)"
   ]
  },
  {
   "cell_type": "code",
   "execution_count": null,
   "metadata": {},
   "outputs": [],
   "source": [
    "inputFormula = driver.find_element(\"id\", \"address\")\n",
    "inputFormula.send_keys('Berlin, Deutschland')\n",
    "inputFormula.send_keys(Keys.ENTER)"
   ]
  },
  {
   "attachments": {},
   "cell_type": "markdown",
   "metadata": {},
   "source": [
    "Getting the addresses"
   ]
  },
  {
   "cell_type": "code",
   "execution_count": null,
   "metadata": {},
   "outputs": [],
   "source": [
    "resultList = driver.find_elements(By.CLASS_NAME, \"store-list-item\")\n",
    "resultSize = len(resultList)\n",
    "iterations = int(resultSize)\n",
    "\n",
    "results=[] #List of all Starbucks addresses.\n",
    "\n",
    "for i in range(0,iterations-1):\n",
    "    #Click Info Button\n",
    "    infoBtn = resultList[i].find_element(By.CLASS_NAME, \"abstract-button\")\n",
    "    driver.execute_script(\"arguments[0].click();\", infoBtn)\n",
    "    #Get Adress and append to List\n",
    "    getStoreAddress = driver.find_elements(By.CLASS_NAME, \"store-details-address\") \n",
    "    results.append(getStoreAddress[0].get_attribute('innerHTML'))\n",
    "    #Click exit button\n",
    "    exitDiv = driver.find_elements(By.CLASS_NAME, \"store-finder-store-header\")\n",
    "    exitBtn = exitDiv[0].find_elements(By.CLASS_NAME, \"abstract-button\")\n",
    "    driver.execute_script(\"arguments[0].click();\", exitBtn)\n",
    "    \n",
    "driver.close()"
   ]
  }
 ],
 "metadata": {
  "kernelspec": {
   "display_name": "Python 3",
   "language": "python",
   "name": "python3"
  },
  "language_info": {
   "codemirror_mode": {
    "name": "ipython",
    "version": 3
   },
   "file_extension": ".py",
   "mimetype": "text/x-python",
   "name": "python",
   "nbconvert_exporter": "python",
   "pygments_lexer": "ipython3",
   "version": "3.11.1"
  },
  "orig_nbformat": 4,
  "vscode": {
   "interpreter": {
    "hash": "c235f36f3d9a82e0362915df7b10d20fce8183911974bad85a5f06678512bd56"
   }
  }
 },
 "nbformat": 4,
 "nbformat_minor": 2
}
