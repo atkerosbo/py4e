{
 "cells": [
  {
   "cell_type": "code",
   "execution_count": 46,
   "metadata": {},
   "outputs": [],
   "source": [
    "# Import necessary libraries\n",
    "from sklearn.linear_model import LinearRegression\n",
    "from sklearn.model_selection import train_test_split\n",
    "from sklearn.metrics import mean_squared_error\n",
    "\n",
    "\n"
   ]
  },
  {
   "cell_type": "code",
   "execution_count": 40,
   "metadata": {},
   "outputs": [],
   "source": [
    "# Load the training data\n",
    "train_data = pd.read_csv('train.csv')\n",
    "test_data = pd.read_csv('test.csv')\n",
    "\n"
   ]
  },
  {
   "cell_type": "code",
   "execution_count": 37,
   "metadata": {},
   "outputs": [
    {
     "data": {
      "text/html": [
       "<div>\n",
       "<style scoped>\n",
       "    .dataframe tbody tr th:only-of-type {\n",
       "        vertical-align: middle;\n",
       "    }\n",
       "\n",
       "    .dataframe tbody tr th {\n",
       "        vertical-align: top;\n",
       "    }\n",
       "\n",
       "    .dataframe thead th {\n",
       "        text-align: right;\n",
       "    }\n",
       "</style>\n",
       "<table border=\"1\" class=\"dataframe\">\n",
       "  <thead>\n",
       "    <tr style=\"text-align: right;\">\n",
       "      <th></th>\n",
       "      <th>MSSubClass</th>\n",
       "      <th>LotFrontage</th>\n",
       "      <th>LotArea</th>\n",
       "      <th>LotShape</th>\n",
       "      <th>LandContour</th>\n",
       "      <th>Utilities</th>\n",
       "      <th>LotConfig</th>\n",
       "      <th>LandSlope</th>\n",
       "      <th>Neighborhood</th>\n",
       "      <th>Condition1</th>\n",
       "      <th>...</th>\n",
       "      <th>SaleCondition_Family</th>\n",
       "      <th>SaleCondition_Normal</th>\n",
       "      <th>SaleCondition_Partial</th>\n",
       "      <th>Street_Grvl</th>\n",
       "      <th>Street_Pave</th>\n",
       "      <th>MSZoning_C (all)</th>\n",
       "      <th>MSZoning_FV</th>\n",
       "      <th>MSZoning_RH</th>\n",
       "      <th>MSZoning_RL</th>\n",
       "      <th>MSZoning_RM</th>\n",
       "    </tr>\n",
       "  </thead>\n",
       "  <tbody>\n",
       "    <tr>\n",
       "      <th>0</th>\n",
       "      <td>60</td>\n",
       "      <td>65.0</td>\n",
       "      <td>8450</td>\n",
       "      <td>Reg</td>\n",
       "      <td>Lvl</td>\n",
       "      <td>AllPub</td>\n",
       "      <td>Inside</td>\n",
       "      <td>Gtl</td>\n",
       "      <td>CollgCr</td>\n",
       "      <td>Norm</td>\n",
       "      <td>...</td>\n",
       "      <td>0</td>\n",
       "      <td>1</td>\n",
       "      <td>0</td>\n",
       "      <td>0</td>\n",
       "      <td>1</td>\n",
       "      <td>0</td>\n",
       "      <td>0</td>\n",
       "      <td>0</td>\n",
       "      <td>1</td>\n",
       "      <td>0</td>\n",
       "    </tr>\n",
       "    <tr>\n",
       "      <th>1</th>\n",
       "      <td>20</td>\n",
       "      <td>80.0</td>\n",
       "      <td>9600</td>\n",
       "      <td>Reg</td>\n",
       "      <td>Lvl</td>\n",
       "      <td>AllPub</td>\n",
       "      <td>FR2</td>\n",
       "      <td>Gtl</td>\n",
       "      <td>Veenker</td>\n",
       "      <td>Feedr</td>\n",
       "      <td>...</td>\n",
       "      <td>0</td>\n",
       "      <td>1</td>\n",
       "      <td>0</td>\n",
       "      <td>0</td>\n",
       "      <td>1</td>\n",
       "      <td>0</td>\n",
       "      <td>0</td>\n",
       "      <td>0</td>\n",
       "      <td>1</td>\n",
       "      <td>0</td>\n",
       "    </tr>\n",
       "    <tr>\n",
       "      <th>2</th>\n",
       "      <td>60</td>\n",
       "      <td>68.0</td>\n",
       "      <td>11250</td>\n",
       "      <td>IR1</td>\n",
       "      <td>Lvl</td>\n",
       "      <td>AllPub</td>\n",
       "      <td>Inside</td>\n",
       "      <td>Gtl</td>\n",
       "      <td>CollgCr</td>\n",
       "      <td>Norm</td>\n",
       "      <td>...</td>\n",
       "      <td>0</td>\n",
       "      <td>1</td>\n",
       "      <td>0</td>\n",
       "      <td>0</td>\n",
       "      <td>1</td>\n",
       "      <td>0</td>\n",
       "      <td>0</td>\n",
       "      <td>0</td>\n",
       "      <td>1</td>\n",
       "      <td>0</td>\n",
       "    </tr>\n",
       "    <tr>\n",
       "      <th>3</th>\n",
       "      <td>70</td>\n",
       "      <td>60.0</td>\n",
       "      <td>9550</td>\n",
       "      <td>IR1</td>\n",
       "      <td>Lvl</td>\n",
       "      <td>AllPub</td>\n",
       "      <td>Corner</td>\n",
       "      <td>Gtl</td>\n",
       "      <td>Crawfor</td>\n",
       "      <td>Norm</td>\n",
       "      <td>...</td>\n",
       "      <td>0</td>\n",
       "      <td>0</td>\n",
       "      <td>0</td>\n",
       "      <td>0</td>\n",
       "      <td>1</td>\n",
       "      <td>0</td>\n",
       "      <td>0</td>\n",
       "      <td>0</td>\n",
       "      <td>1</td>\n",
       "      <td>0</td>\n",
       "    </tr>\n",
       "    <tr>\n",
       "      <th>4</th>\n",
       "      <td>60</td>\n",
       "      <td>84.0</td>\n",
       "      <td>14260</td>\n",
       "      <td>IR1</td>\n",
       "      <td>Lvl</td>\n",
       "      <td>AllPub</td>\n",
       "      <td>FR2</td>\n",
       "      <td>Gtl</td>\n",
       "      <td>NoRidge</td>\n",
       "      <td>Norm</td>\n",
       "      <td>...</td>\n",
       "      <td>0</td>\n",
       "      <td>1</td>\n",
       "      <td>0</td>\n",
       "      <td>0</td>\n",
       "      <td>1</td>\n",
       "      <td>0</td>\n",
       "      <td>0</td>\n",
       "      <td>0</td>\n",
       "      <td>1</td>\n",
       "      <td>0</td>\n",
       "    </tr>\n",
       "  </tbody>\n",
       "</table>\n",
       "<p>5 rows × 86 columns</p>\n",
       "</div>"
      ],
      "text/plain": [
       "   MSSubClass  LotFrontage  LotArea LotShape LandContour Utilities LotConfig  \\\n",
       "0          60         65.0     8450      Reg         Lvl    AllPub    Inside   \n",
       "1          20         80.0     9600      Reg         Lvl    AllPub       FR2   \n",
       "2          60         68.0    11250      IR1         Lvl    AllPub    Inside   \n",
       "3          70         60.0     9550      IR1         Lvl    AllPub    Corner   \n",
       "4          60         84.0    14260      IR1         Lvl    AllPub       FR2   \n",
       "\n",
       "  LandSlope Neighborhood Condition1  ... SaleCondition_Family  \\\n",
       "0       Gtl      CollgCr       Norm  ...                    0   \n",
       "1       Gtl      Veenker      Feedr  ...                    0   \n",
       "2       Gtl      CollgCr       Norm  ...                    0   \n",
       "3       Gtl      Crawfor       Norm  ...                    0   \n",
       "4       Gtl      NoRidge       Norm  ...                    0   \n",
       "\n",
       "  SaleCondition_Normal SaleCondition_Partial  Street_Grvl  Street_Pave  \\\n",
       "0                    1                     0            0            1   \n",
       "1                    1                     0            0            1   \n",
       "2                    1                     0            0            1   \n",
       "3                    0                     0            0            1   \n",
       "4                    1                     0            0            1   \n",
       "\n",
       "   MSZoning_C (all)  MSZoning_FV MSZoning_RH MSZoning_RL MSZoning_RM  \n",
       "0                 0            0           0           1           0  \n",
       "1                 0            0           0           1           0  \n",
       "2                 0            0           0           1           0  \n",
       "3                 0            0           0           1           0  \n",
       "4                 0            0           0           1           0  \n",
       "\n",
       "[5 rows x 86 columns]"
      ]
     },
     "execution_count": 37,
     "metadata": {},
     "output_type": "execute_result"
    }
   ],
   "source": [
    "train_data.head()\n"
   ]
  },
  {
   "cell_type": "code",
   "execution_count": 38,
   "metadata": {},
   "outputs": [
    {
     "name": "stdout",
     "output_type": "stream",
     "text": [
      "Columns having categorical data:\n"
     ]
    },
    {
     "data": {
      "text/plain": [
       "['LotShape',\n",
       " 'LandContour',\n",
       " 'Utilities',\n",
       " 'LotConfig',\n",
       " 'LandSlope',\n",
       " 'Neighborhood',\n",
       " 'Condition1',\n",
       " 'Condition2',\n",
       " 'BldgType',\n",
       " 'HouseStyle',\n",
       " 'RoofStyle',\n",
       " 'RoofMatl',\n",
       " 'Exterior1st',\n",
       " 'Exterior2nd',\n",
       " 'MasVnrType',\n",
       " 'ExterQual',\n",
       " 'ExterCond',\n",
       " 'Foundation',\n",
       " 'BsmtQual',\n",
       " 'BsmtCond',\n",
       " 'BsmtExposure',\n",
       " 'BsmtFinType1',\n",
       " 'BsmtFinType2',\n",
       " 'Heating',\n",
       " 'HeatingQC',\n",
       " 'CentralAir',\n",
       " 'Electrical',\n",
       " 'KitchenQual',\n",
       " 'Functional',\n",
       " 'FireplaceQu',\n",
       " 'GarageType',\n",
       " 'GarageFinish',\n",
       " 'GarageQual',\n",
       " 'GarageCond',\n",
       " 'PavedDrive',\n",
       " 'SaleType']"
      ]
     },
     "execution_count": 38,
     "metadata": {},
     "output_type": "execute_result"
    }
   ],
   "source": [
    "print(\"Columns having categorical data:\")\n",
    "category = list(train_data.select_dtypes(include = [object]).columns)\n",
    "category\n"
   ]
  },
  {
   "cell_type": "code",
   "execution_count": 32,
   "metadata": {},
   "outputs": [
    {
     "name": "stdout",
     "output_type": "stream",
     "text": [
      "Columns having numerical data:\n"
     ]
    },
    {
     "data": {
      "text/plain": [
       "['MSSubClass',\n",
       " 'LotFrontage',\n",
       " 'LotArea',\n",
       " 'OverallQual',\n",
       " 'OverallCond',\n",
       " 'YearBuilt',\n",
       " 'YearRemodAdd',\n",
       " 'MasVnrArea',\n",
       " 'BsmtFinSF1',\n",
       " 'BsmtFinSF2',\n",
       " 'BsmtUnfSF',\n",
       " 'TotalBsmtSF',\n",
       " '1stFlrSF',\n",
       " '2ndFlrSF',\n",
       " 'LowQualFinSF',\n",
       " 'GrLivArea',\n",
       " 'BsmtFullBath',\n",
       " 'BsmtHalfBath',\n",
       " 'FullBath',\n",
       " 'HalfBath',\n",
       " 'BedroomAbvGr',\n",
       " 'KitchenAbvGr',\n",
       " 'TotRmsAbvGrd',\n",
       " 'Fireplaces',\n",
       " 'GarageYrBlt',\n",
       " 'GarageCars',\n",
       " 'GarageArea',\n",
       " 'WoodDeckSF',\n",
       " 'OpenPorchSF',\n",
       " 'EnclosedPorch',\n",
       " '3SsnPorch',\n",
       " 'ScreenPorch',\n",
       " 'PoolArea',\n",
       " 'MiscVal',\n",
       " 'MoSold',\n",
       " 'YrSold',\n",
       " 'SalePrice']"
      ]
     },
     "execution_count": 32,
     "metadata": {},
     "output_type": "execute_result"
    }
   ],
   "source": [
    "print(\"Columns having numerical data:\")\n",
    "num = list(train_data.select_dtypes(include = [int,float]).columns)\n",
    "num"
   ]
  },
  {
   "cell_type": "code",
   "execution_count": 35,
   "metadata": {},
   "outputs": [
    {
     "name": "stdout",
     "output_type": "stream",
     "text": [
      "<class 'pandas.core.frame.DataFrame'>\n",
      "RangeIndex: 1460 entries, 0 to 1459\n",
      "Data columns (total 86 columns):\n",
      " #   Column                 Non-Null Count  Dtype  \n",
      "---  ------                 --------------  -----  \n",
      " 0   MSSubClass             1460 non-null   int64  \n",
      " 1   LotFrontage            1460 non-null   float64\n",
      " 2   LotArea                1460 non-null   int64  \n",
      " 3   LotShape               1460 non-null   object \n",
      " 4   LandContour            1460 non-null   object \n",
      " 5   Utilities              1460 non-null   object \n",
      " 6   LotConfig              1460 non-null   object \n",
      " 7   LandSlope              1460 non-null   object \n",
      " 8   Neighborhood           1460 non-null   object \n",
      " 9   Condition1             1460 non-null   object \n",
      " 10  Condition2             1460 non-null   object \n",
      " 11  BldgType               1460 non-null   object \n",
      " 12  HouseStyle             1460 non-null   object \n",
      " 13  OverallQual            1460 non-null   int64  \n",
      " 14  OverallCond            1460 non-null   int64  \n",
      " 15  YearBuilt              1460 non-null   int64  \n",
      " 16  YearRemodAdd           1460 non-null   int64  \n",
      " 17  RoofStyle              1460 non-null   object \n",
      " 18  RoofMatl               1460 non-null   object \n",
      " 19  Exterior1st            1460 non-null   object \n",
      " 20  Exterior2nd            1460 non-null   object \n",
      " 21  MasVnrType             1452 non-null   object \n",
      " 22  MasVnrArea             1460 non-null   float64\n",
      " 23  ExterQual              1460 non-null   object \n",
      " 24  ExterCond              1460 non-null   object \n",
      " 25  Foundation             1460 non-null   object \n",
      " 26  BsmtQual               1423 non-null   object \n",
      " 27  BsmtCond               1423 non-null   object \n",
      " 28  BsmtExposure           1422 non-null   object \n",
      " 29  BsmtFinType1           1423 non-null   object \n",
      " 30  BsmtFinSF1             1460 non-null   int64  \n",
      " 31  BsmtFinType2           1422 non-null   object \n",
      " 32  BsmtFinSF2             1460 non-null   int64  \n",
      " 33  BsmtUnfSF              1460 non-null   int64  \n",
      " 34  TotalBsmtSF            1460 non-null   int64  \n",
      " 35  Heating                1460 non-null   object \n",
      " 36  HeatingQC              1460 non-null   object \n",
      " 37  CentralAir             1460 non-null   object \n",
      " 38  Electrical             1459 non-null   object \n",
      " 39  1stFlrSF               1460 non-null   int64  \n",
      " 40  2ndFlrSF               1460 non-null   int64  \n",
      " 41  LowQualFinSF           1460 non-null   int64  \n",
      " 42  GrLivArea              1460 non-null   int64  \n",
      " 43  BsmtFullBath           1460 non-null   int64  \n",
      " 44  BsmtHalfBath           1460 non-null   int64  \n",
      " 45  FullBath               1460 non-null   int64  \n",
      " 46  HalfBath               1460 non-null   int64  \n",
      " 47  BedroomAbvGr           1460 non-null   int64  \n",
      " 48  KitchenAbvGr           1460 non-null   int64  \n",
      " 49  KitchenQual            1460 non-null   object \n",
      " 50  TotRmsAbvGrd           1460 non-null   int64  \n",
      " 51  Functional             1460 non-null   object \n",
      " 52  Fireplaces             1460 non-null   int64  \n",
      " 53  FireplaceQu            770 non-null    object \n",
      " 54  GarageType             1379 non-null   object \n",
      " 55  GarageYrBlt            1460 non-null   float64\n",
      " 56  GarageFinish           1379 non-null   object \n",
      " 57  GarageCars             1460 non-null   int64  \n",
      " 58  GarageArea             1460 non-null   int64  \n",
      " 59  GarageQual             1379 non-null   object \n",
      " 60  GarageCond             1379 non-null   object \n",
      " 61  PavedDrive             1460 non-null   object \n",
      " 62  WoodDeckSF             1460 non-null   int64  \n",
      " 63  OpenPorchSF            1460 non-null   int64  \n",
      " 64  EnclosedPorch          1460 non-null   int64  \n",
      " 65  3SsnPorch              1460 non-null   int64  \n",
      " 66  ScreenPorch            1460 non-null   int64  \n",
      " 67  PoolArea               1460 non-null   int64  \n",
      " 68  MiscVal                1460 non-null   int64  \n",
      " 69  MoSold                 1460 non-null   int64  \n",
      " 70  YrSold                 1460 non-null   int64  \n",
      " 71  SaleType               1460 non-null   object \n",
      " 72  SalePrice              1460 non-null   int64  \n",
      " 73  SaleCondition_Abnorml  1460 non-null   uint8  \n",
      " 74  SaleCondition_AdjLand  1460 non-null   uint8  \n",
      " 75  SaleCondition_Alloca   1460 non-null   uint8  \n",
      " 76  SaleCondition_Family   1460 non-null   uint8  \n",
      " 77  SaleCondition_Normal   1460 non-null   uint8  \n",
      " 78  SaleCondition_Partial  1460 non-null   uint8  \n",
      " 79  Street_Grvl            1460 non-null   uint8  \n",
      " 80  Street_Pave            1460 non-null   uint8  \n",
      " 81  MSZoning_C (all)       1460 non-null   uint8  \n",
      " 82  MSZoning_FV            1460 non-null   uint8  \n",
      " 83  MSZoning_RH            1460 non-null   uint8  \n",
      " 84  MSZoning_RL            1460 non-null   uint8  \n",
      " 85  MSZoning_RM            1460 non-null   uint8  \n",
      "dtypes: float64(3), int64(34), object(36), uint8(13)\n",
      "memory usage: 851.3+ KB\n"
     ]
    }
   ],
   "source": [
    "train_data.info()"
   ]
  },
  {
   "cell_type": "code",
   "execution_count": 41,
   "metadata": {},
   "outputs": [],
   "source": [
    "train_data['LotFrontage'].fillna(test_data['LotFrontage'].mean(),inplace = True)\n",
    "train_data['MasVnrArea'].fillna(test_data['MasVnrArea'].mean(),inplace = True)"
   ]
  },
  {
   "cell_type": "code",
   "execution_count": 42,
   "metadata": {},
   "outputs": [],
   "source": [
    "test_data['LotFrontage'].fillna(test_data['LotFrontage'].mean(),inplace = True)\n",
    "test_data['MasVnrArea'].fillna(test_data['MasVnrArea'].mean(),inplace = True)"
   ]
  },
  {
   "cell_type": "code",
   "execution_count": 43,
   "metadata": {},
   "outputs": [
    {
     "data": {
      "text/plain": [
       "None       878\n",
       "BrkFace    434\n",
       "Stone      121\n",
       "BrkCmn      10\n",
       "Name: MasVnrType, dtype: int64"
      ]
     },
     "execution_count": 43,
     "metadata": {},
     "output_type": "execute_result"
    }
   ],
   "source": [
    "\n"
   ]
  },
  {
   "cell_type": "code",
   "execution_count": 44,
   "metadata": {},
   "outputs": [
    {
     "name": "stderr",
     "output_type": "stream",
     "text": [
      "C:\\Users\\ab\\AppData\\Local\\Temp\\ipykernel_9312\\413777893.py:3: FutureWarning: The default value of numeric_only in DataFrame.mean is deprecated. In a future version, it will default to False. In addition, specifying 'numeric_only=None' is deprecated. Select only valid columns or specify the value of numeric_only to silence this warning.\n",
      "  train_data = train_data.fillna(train_data.mean())\n"
     ]
    }
   ],
   "source": [
    "# Clean and preprocess the data\n",
    "train_data = train_data.drop(['Id'], axis=1)\n",
    "train_data = train_data.fillna(train_data.mean())\n",
    "\n"
   ]
  },
  {
   "cell_type": "code",
   "execution_count": 28,
   "metadata": {},
   "outputs": [],
   "source": [
    "# Create dummy variables for categorical columns\n",
    "train_data = pd.get_dummies(train_data, columns=['SaleCondition', 'Street', 'MSZoning'])\n",
    "\n"
   ]
  },
  {
   "cell_type": "code",
   "execution_count": 45,
   "metadata": {},
   "outputs": [],
   "source": [
    "# Extract the target variable and feature variables\n",
    "X = train_data.drop(['SalePrice'], axis=1)\n",
    "y = train_data['SalePrice']\n"
   ]
  },
  {
   "cell_type": "code",
   "execution_count": 30,
   "metadata": {},
   "outputs": [],
   "source": [
    "# Split the data into training and test sets\n",
    "X_train, X_test, y_train, y_test = train_test_split(X, y, test_size=0.2, random_state=42)\n"
   ]
  },
  {
   "cell_type": "code",
   "execution_count": null,
   "metadata": {},
   "outputs": [],
   "source": [
    "\n",
    "# Train the model\n",
    "linear_regression = LinearRegression()\n",
    "linear_regression.fit(X_train, y_train)\n",
    "\n"
   ]
  },
  {
   "cell_type": "code",
   "execution_count": null,
   "metadata": {},
   "outputs": [],
   "source": [
    "# Make predictions on the test set\n",
    "y_pred = clf.predict(X_test)\n",
    "\n"
   ]
  },
  {
   "cell_type": "code",
   "execution_count": null,
   "metadata": {},
   "outputs": [],
   "source": [
    "# Evaluate the model's performance\n",
    "accuracy = accuracy_score(y_test, y_pred)\n",
    "print(\"Accuracy:\", accuracy)"
   ]
  }
 ],
 "metadata": {
  "kernelspec": {
   "display_name": "Python 3",
   "language": "python",
   "name": "python3"
  },
  "language_info": {
   "codemirror_mode": {
    "name": "ipython",
    "version": 3
   },
   "file_extension": ".py",
   "mimetype": "text/x-python",
   "name": "python",
   "nbconvert_exporter": "python",
   "pygments_lexer": "ipython3",
   "version": "3.11.1"
  },
  "orig_nbformat": 4,
  "vscode": {
   "interpreter": {
    "hash": "c235f36f3d9a82e0362915df7b10d20fce8183911974bad85a5f06678512bd56"
   }
  }
 },
 "nbformat": 4,
 "nbformat_minor": 2
}
