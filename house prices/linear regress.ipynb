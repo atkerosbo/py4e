{
 "cells": [
  {
   "cell_type": "code",
   "execution_count": null,
   "metadata": {},
   "outputs": [],
   "source": [
    "import pandas as pd\n",
    "from sklearn.linear_model import LinearRegression\n",
    "from sklearn.model_selection import train_test_split\n",
    "from sklearn.metrics import mean_squared_error\n",
    "\n",
    "# Load the training data\n",
    "train_data = pd.read_csv('train.csv')\n",
    "\n",
    "# Clean and preprocess the data\n",
    "train_data = train_data.drop(['Id', 'MSZoning'], axis=1)\n",
    "train_data = train_data.fillna(train_data.mean())\n",
    "\n",
    "# Extract the target variable and feature variables\n",
    "X = train_data.drop(['SalePrice'], axis=1)\n",
    "y = train_data['SalePrice']\n",
    "\n",
    "# Select categorical variables\n",
    "categorical_vars = train_data.select_dtypes(include=['object']).columns\n",
    "\n",
    "# Encode categorical variables using one-hot encoding\n",
    "train_data = pd.get_dummies(train_data, columns=categorical_vars)\n",
    "\n",
    "# Split the data into training and test sets\n",
    "X_train, X_test, y_train, y_test = train_test_split(X, y, test_size=0.2, random_state=42)\n",
    "\n",
    "# Train the model\n",
    "linear_regression = LinearRegression()\n",
    "linear_regression.fit(X_train, y_train)\n",
    "\n",
    "\n",
    "# Make predictions on the test set\n",
    "y_pred = random_forest_regressor.predict(X_test)\n",
    "\n",
    "# Evaluate the model's performance\n",
    "mse = mean_squared_error(y_test, y_pred)\n",
    "print(\"Mean Squared Error:\", mse)"
   ]
  }
 ],
 "metadata": {
  "language_info": {
   "name": "python"
  },
  "orig_nbformat": 4
 },
 "nbformat": 4,
 "nbformat_minor": 2
}
