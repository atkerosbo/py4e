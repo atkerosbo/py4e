{
 "cells": [
  {
   "cell_type": "code",
   "execution_count": 1,
   "metadata": {},
   "outputs": [],
   "source": [
    "import tensorflow as tf\n",
    "from sklearn.preprocessing import StandardScaler\n",
    "from sklearn.model_selection import train_test_split\n",
    "from sklearn.metrics import mean_squared_error\n",
    "import pandas as pd\n",
    "import numpy as np\n"
   ]
  },
  {
   "cell_type": "code",
   "execution_count": 2,
   "metadata": {},
   "outputs": [],
   "source": [
    "# Load the data\n",
    "train_data = pd.read_csv('train.csv')\n"
   ]
  },
  {
   "cell_type": "code",
   "execution_count": 3,
   "metadata": {},
   "outputs": [
    {
     "name": "stderr",
     "output_type": "stream",
     "text": [
      "C:\\Users\\ab\\AppData\\Local\\Temp\\ipykernel_14688\\294562712.py:3: FutureWarning: The default value of numeric_only in DataFrame.mean is deprecated. In a future version, it will default to False. In addition, specifying 'numeric_only=None' is deprecated. Select only valid columns or specify the value of numeric_only to silence this warning.\n",
      "  train_data = train_data.fillna(train_data.mean())\n"
     ]
    }
   ],
   "source": [
    "# Clean and preprocess the data\n",
    "train_data = train_data.drop(['Id'], axis=1)\n",
    "train_data = train_data.fillna(train_data.mean())\n",
    "# Select categorical variables\n",
    "categorical_vars = train_data.select_dtypes(include=['object']).columns\n"
   ]
  },
  {
   "cell_type": "code",
   "execution_count": 4,
   "metadata": {},
   "outputs": [],
   "source": [
    "# Encode categorical variables using one-hot encoding\n",
    "train_data = pd.get_dummies(train_data, columns=categorical_vars)"
   ]
  },
  {
   "cell_type": "code",
   "execution_count": 6,
   "metadata": {},
   "outputs": [],
   "source": [
    "# Select numerical variables\n",
    "numerical_vars = train_data.select_dtypes(include=['float64', 'int64']).columns\n",
    "\n",
    "# Scale numerical variables\n",
    "scaler = StandardScaler()\n",
    "train_data[numerical_vars] = scaler.fit_transform(train_data[numerical_vars])\n",
    "\n",
    "\n"
   ]
  },
  {
   "cell_type": "code",
   "execution_count": 7,
   "metadata": {},
   "outputs": [],
   "source": [
    "#Extract the target variable and feature variables\n",
    "X = train_data.drop(['SalePrice'], axis=1)\n",
    "y = train_data['SalePrice']\n",
    "\n"
   ]
  },
  {
   "cell_type": "code",
   "execution_count": 8,
   "metadata": {},
   "outputs": [],
   "source": [
    "#Split the data into training and test sets\n",
    "X_train, X_test, y_train, y_test = train_test_split(X, y, test_size=0.2, random_state=42)\n",
    "\n",
    "\n"
   ]
  },
  {
   "cell_type": "code",
   "execution_count": 9,
   "metadata": {},
   "outputs": [],
   "source": [
    "#Define the model\n",
    "model = tf.keras.Sequential()\n",
    "model.add(tf.keras.layers.Dense(16, activation='relu'))\n",
    "#model.add(tf.keras.layers.Dropout(0.4))\n",
    "model.add(tf.keras.layers.Dense(16, activation='relu'))\n",
    "#model.add(tf.keras.layers.Dropout(0.4))\n",
    "model.add(tf.keras.layers.Dense(1, activation='sigmoid'))"
   ]
  },
  {
   "cell_type": "code",
   "execution_count": 10,
   "metadata": {},
   "outputs": [],
   "source": [
    "#Compile the model\n",
    "model.compile(optimizer='adam', loss='mean_squared_error')"
   ]
  },
  {
   "cell_type": "code",
   "execution_count": 14,
   "metadata": {},
   "outputs": [
    {
     "name": "stdout",
     "output_type": "stream",
     "text": [
      "Epoch 1/100\n",
      "37/37 - 0s - loss: 0.5190 - 186ms/epoch - 5ms/step\n",
      "Epoch 2/100\n",
      "37/37 - 0s - loss: 0.5190 - 139ms/epoch - 4ms/step\n",
      "Epoch 3/100\n",
      "37/37 - 0s - loss: 0.5189 - 137ms/epoch - 4ms/step\n",
      "Epoch 4/100\n",
      "37/37 - 0s - loss: 0.5186 - 144ms/epoch - 4ms/step\n",
      "Epoch 5/100\n",
      "37/37 - 0s - loss: 0.5184 - 119ms/epoch - 3ms/step\n",
      "Epoch 6/100\n",
      "37/37 - 0s - loss: 0.5185 - 145ms/epoch - 4ms/step\n",
      "Epoch 7/100\n",
      "37/37 - 0s - loss: 0.5188 - 219ms/epoch - 6ms/step\n",
      "Epoch 8/100\n",
      "37/37 - 0s - loss: 0.5186 - 119ms/epoch - 3ms/step\n",
      "Epoch 9/100\n",
      "37/37 - 0s - loss: 0.5186 - 148ms/epoch - 4ms/step\n",
      "Epoch 10/100\n",
      "37/37 - 0s - loss: 0.5183 - 121ms/epoch - 3ms/step\n",
      "Epoch 11/100\n",
      "37/37 - 0s - loss: 0.5182 - 125ms/epoch - 3ms/step\n",
      "Epoch 12/100\n",
      "37/37 - 0s - loss: 0.5181 - 129ms/epoch - 3ms/step\n",
      "Epoch 13/100\n",
      "37/37 - 0s - loss: 0.5185 - 142ms/epoch - 4ms/step\n",
      "Epoch 14/100\n",
      "37/37 - 0s - loss: 0.5185 - 109ms/epoch - 3ms/step\n",
      "Epoch 15/100\n",
      "37/37 - 0s - loss: 0.5182 - 103ms/epoch - 3ms/step\n",
      "Epoch 16/100\n",
      "37/37 - 0s - loss: 0.5182 - 120ms/epoch - 3ms/step\n",
      "Epoch 17/100\n",
      "37/37 - 0s - loss: 0.5180 - 139ms/epoch - 4ms/step\n",
      "Epoch 18/100\n",
      "37/37 - 0s - loss: 0.5183 - 142ms/epoch - 4ms/step\n",
      "Epoch 19/100\n",
      "37/37 - 0s - loss: 0.5181 - 136ms/epoch - 4ms/step\n",
      "Epoch 20/100\n",
      "37/37 - 0s - loss: 0.5178 - 127ms/epoch - 3ms/step\n",
      "Epoch 21/100\n",
      "37/37 - 0s - loss: 0.5177 - 112ms/epoch - 3ms/step\n",
      "Epoch 22/100\n",
      "37/37 - 0s - loss: 0.5177 - 115ms/epoch - 3ms/step\n",
      "Epoch 23/100\n",
      "37/37 - 0s - loss: 0.5180 - 127ms/epoch - 3ms/step\n",
      "Epoch 24/100\n",
      "37/37 - 0s - loss: 0.5182 - 118ms/epoch - 3ms/step\n",
      "Epoch 25/100\n",
      "37/37 - 0s - loss: 0.5178 - 119ms/epoch - 3ms/step\n",
      "Epoch 26/100\n",
      "37/37 - 0s - loss: 0.5176 - 100ms/epoch - 3ms/step\n",
      "Epoch 27/100\n",
      "37/37 - 0s - loss: 0.5175 - 99ms/epoch - 3ms/step\n",
      "Epoch 28/100\n",
      "37/37 - 0s - loss: 0.5174 - 104ms/epoch - 3ms/step\n",
      "Epoch 29/100\n",
      "37/37 - 0s - loss: 0.5175 - 112ms/epoch - 3ms/step\n",
      "Epoch 30/100\n",
      "37/37 - 0s - loss: 0.5174 - 98ms/epoch - 3ms/step\n",
      "Epoch 31/100\n",
      "37/37 - 0s - loss: 0.5175 - 108ms/epoch - 3ms/step\n",
      "Epoch 32/100\n",
      "37/37 - 0s - loss: 0.5174 - 103ms/epoch - 3ms/step\n",
      "Epoch 33/100\n",
      "37/37 - 0s - loss: 0.5174 - 98ms/epoch - 3ms/step\n",
      "Epoch 34/100\n",
      "37/37 - 0s - loss: 0.5175 - 96ms/epoch - 3ms/step\n",
      "Epoch 35/100\n",
      "37/37 - 0s - loss: 0.5175 - 123ms/epoch - 3ms/step\n",
      "Epoch 36/100\n",
      "37/37 - 0s - loss: 0.5174 - 103ms/epoch - 3ms/step\n",
      "Epoch 37/100\n",
      "37/37 - 0s - loss: 0.5176 - 89ms/epoch - 2ms/step\n",
      "Epoch 38/100\n",
      "37/37 - 0s - loss: 0.5177 - 108ms/epoch - 3ms/step\n",
      "Epoch 39/100\n",
      "37/37 - 0s - loss: 0.5174 - 122ms/epoch - 3ms/step\n",
      "Epoch 40/100\n",
      "37/37 - 0s - loss: 0.5171 - 97ms/epoch - 3ms/step\n",
      "Epoch 41/100\n",
      "37/37 - 0s - loss: 0.5171 - 87ms/epoch - 2ms/step\n",
      "Epoch 42/100\n",
      "37/37 - 0s - loss: 0.5170 - 86ms/epoch - 2ms/step\n",
      "Epoch 43/100\n",
      "37/37 - 0s - loss: 0.5169 - 85ms/epoch - 2ms/step\n",
      "Epoch 44/100\n",
      "37/37 - 0s - loss: 0.5171 - 90ms/epoch - 2ms/step\n",
      "Epoch 45/100\n",
      "37/37 - 0s - loss: 0.5171 - 86ms/epoch - 2ms/step\n",
      "Epoch 46/100\n",
      "37/37 - 0s - loss: 0.5170 - 130ms/epoch - 4ms/step\n",
      "Epoch 47/100\n",
      "37/37 - 0s - loss: 0.5173 - 90ms/epoch - 2ms/step\n",
      "Epoch 48/100\n",
      "37/37 - 0s - loss: 0.5177 - 88ms/epoch - 2ms/step\n",
      "Epoch 49/100\n",
      "37/37 - 0s - loss: 0.5175 - 83ms/epoch - 2ms/step\n",
      "Epoch 50/100\n",
      "37/37 - 0s - loss: 0.5174 - 105ms/epoch - 3ms/step\n",
      "Epoch 51/100\n",
      "37/37 - 0s - loss: 0.5173 - 87ms/epoch - 2ms/step\n",
      "Epoch 52/100\n",
      "37/37 - 0s - loss: 0.5171 - 95ms/epoch - 3ms/step\n",
      "Epoch 53/100\n",
      "37/37 - 0s - loss: 0.5172 - 84ms/epoch - 2ms/step\n",
      "Epoch 54/100\n",
      "37/37 - 0s - loss: 0.5170 - 86ms/epoch - 2ms/step\n",
      "Epoch 55/100\n",
      "37/37 - 0s - loss: 0.5170 - 127ms/epoch - 3ms/step\n",
      "Epoch 56/100\n",
      "37/37 - 0s - loss: 0.5168 - 118ms/epoch - 3ms/step\n",
      "Epoch 57/100\n",
      "37/37 - 0s - loss: 0.5167 - 103ms/epoch - 3ms/step\n",
      "Epoch 58/100\n",
      "37/37 - 0s - loss: 0.5168 - 92ms/epoch - 2ms/step\n",
      "Epoch 59/100\n",
      "37/37 - 0s - loss: 0.5168 - 87ms/epoch - 2ms/step\n",
      "Epoch 60/100\n",
      "37/37 - 0s - loss: 0.5171 - 86ms/epoch - 2ms/step\n",
      "Epoch 61/100\n",
      "37/37 - 0s - loss: 0.5169 - 94ms/epoch - 3ms/step\n",
      "Epoch 62/100\n",
      "37/37 - 0s - loss: 0.5168 - 84ms/epoch - 2ms/step\n",
      "Epoch 63/100\n",
      "37/37 - 0s - loss: 0.5169 - 96ms/epoch - 3ms/step\n",
      "Epoch 64/100\n",
      "37/37 - 0s - loss: 0.5170 - 88ms/epoch - 2ms/step\n",
      "Epoch 65/100\n",
      "37/37 - 0s - loss: 0.5168 - 86ms/epoch - 2ms/step\n",
      "Epoch 66/100\n",
      "37/37 - 0s - loss: 0.5170 - 90ms/epoch - 2ms/step\n",
      "Epoch 67/100\n",
      "37/37 - 0s - loss: 0.5170 - 88ms/epoch - 2ms/step\n",
      "Epoch 68/100\n",
      "37/37 - 0s - loss: 0.5167 - 86ms/epoch - 2ms/step\n",
      "Epoch 69/100\n",
      "37/37 - 0s - loss: 0.5167 - 83ms/epoch - 2ms/step\n",
      "Epoch 70/100\n",
      "37/37 - 0s - loss: 0.5169 - 85ms/epoch - 2ms/step\n",
      "Epoch 71/100\n",
      "37/37 - 0s - loss: 0.5169 - 88ms/epoch - 2ms/step\n",
      "Epoch 72/100\n",
      "37/37 - 0s - loss: 0.5166 - 91ms/epoch - 2ms/step\n",
      "Epoch 73/100\n",
      "37/37 - 0s - loss: 0.5167 - 85ms/epoch - 2ms/step\n",
      "Epoch 74/100\n",
      "37/37 - 0s - loss: 0.5168 - 88ms/epoch - 2ms/step\n",
      "Epoch 75/100\n",
      "37/37 - 0s - loss: 0.5168 - 87ms/epoch - 2ms/step\n",
      "Epoch 76/100\n",
      "37/37 - 0s - loss: 0.5168 - 88ms/epoch - 2ms/step\n",
      "Epoch 77/100\n",
      "37/37 - 0s - loss: 0.5168 - 89ms/epoch - 2ms/step\n",
      "Epoch 78/100\n",
      "37/37 - 0s - loss: 0.5168 - 83ms/epoch - 2ms/step\n",
      "Epoch 79/100\n",
      "37/37 - 0s - loss: 0.5166 - 87ms/epoch - 2ms/step\n",
      "Epoch 80/100\n",
      "37/37 - 0s - loss: 0.5165 - 85ms/epoch - 2ms/step\n",
      "Epoch 81/100\n",
      "37/37 - 0s - loss: 0.5164 - 84ms/epoch - 2ms/step\n",
      "Epoch 82/100\n",
      "37/37 - 0s - loss: 0.5164 - 84ms/epoch - 2ms/step\n",
      "Epoch 83/100\n",
      "37/37 - 0s - loss: 0.5163 - 135ms/epoch - 4ms/step\n",
      "Epoch 84/100\n",
      "37/37 - 0s - loss: 0.5164 - 85ms/epoch - 2ms/step\n",
      "Epoch 85/100\n",
      "37/37 - 0s - loss: 0.5164 - 97ms/epoch - 3ms/step\n",
      "Epoch 86/100\n",
      "37/37 - 0s - loss: 0.5166 - 88ms/epoch - 2ms/step\n",
      "Epoch 87/100\n",
      "37/37 - 0s - loss: 0.5166 - 94ms/epoch - 3ms/step\n",
      "Epoch 88/100\n",
      "37/37 - 0s - loss: 0.5168 - 91ms/epoch - 2ms/step\n",
      "Epoch 89/100\n",
      "37/37 - 0s - loss: 0.5168 - 88ms/epoch - 2ms/step\n",
      "Epoch 90/100\n",
      "37/37 - 0s - loss: 0.5166 - 87ms/epoch - 2ms/step\n",
      "Epoch 91/100\n",
      "37/37 - 0s - loss: 0.5165 - 81ms/epoch - 2ms/step\n",
      "Epoch 92/100\n",
      "37/37 - 0s - loss: 0.5164 - 93ms/epoch - 3ms/step\n",
      "Epoch 93/100\n",
      "37/37 - 0s - loss: 0.5164 - 105ms/epoch - 3ms/step\n",
      "Epoch 94/100\n",
      "37/37 - 0s - loss: 0.5164 - 92ms/epoch - 2ms/step\n",
      "Epoch 95/100\n",
      "37/37 - 0s - loss: 0.5163 - 126ms/epoch - 3ms/step\n",
      "Epoch 96/100\n",
      "37/37 - 0s - loss: 0.5164 - 117ms/epoch - 3ms/step\n",
      "Epoch 97/100\n",
      "37/37 - 0s - loss: 0.5163 - 96ms/epoch - 3ms/step\n",
      "Epoch 98/100\n",
      "37/37 - 0s - loss: 0.5163 - 85ms/epoch - 2ms/step\n",
      "Epoch 99/100\n",
      "37/37 - 0s - loss: 0.5166 - 84ms/epoch - 2ms/step\n",
      "Epoch 100/100\n",
      "37/37 - 0s - loss: 0.5166 - 95ms/epoch - 3ms/step\n"
     ]
    },
    {
     "data": {
      "text/plain": [
       "<keras.callbacks.History at 0x201a52fafa0>"
      ]
     },
     "execution_count": 14,
     "metadata": {},
     "output_type": "execute_result"
    }
   ],
   "source": [
    "#Train the model\n",
    "model.fit(X_train, y_train, epochs=100, batch_size=32, verbose=2)"
   ]
  },
  {
   "cell_type": "code",
   "execution_count": 15,
   "metadata": {},
   "outputs": [
    {
     "name": "stdout",
     "output_type": "stream",
     "text": [
      "10/10 [==============================] - 0s 2ms/step\n"
     ]
    }
   ],
   "source": [
    "#Make predictions on the test set\n",
    "y_pred = model.predict(X_test)"
   ]
  },
  {
   "cell_type": "code",
   "execution_count": 16,
   "metadata": {},
   "outputs": [
    {
     "name": "stdout",
     "output_type": "stream",
     "text": [
      "Mean Squared Error: tf.Tensor(\n",
      "[1.2168889 2.2682753 1.2168884 1.2168914 2.2691162 1.2168884 1.9997479\n",
      " 1.2168887 1.2168884 1.2168889 1.2168884 1.2168884 1.2168887 1.2735541\n",
      " 1.2169195 1.2168885 1.219131  1.2168885 1.2168884 1.6016735 1.2168884\n",
      " 1.2880251 1.2170584 1.2168885 1.3756891 1.2169251 1.2179846 1.2168885\n",
      " 1.2178363 1.4077374 1.216889  2.223162  2.102054  1.2168884 2.0406013\n",
      " 1.2168887 1.2168884 1.2898012 2.268125  1.2168884 1.216889  2.1502264\n",
      " 1.2168884 2.269139  1.2168885 1.2169315 1.2168884 1.2168885 2.2692833\n",
      " 1.2168885 1.2168884 1.2198745 1.2168885 2.258383  1.2169459 2.0635824\n",
      " 1.2218525 1.2168987 1.2168885 1.2168885 1.2168884 1.2168889 2.2691045\n",
      " 2.2377243 2.260189  1.2169391 1.2168884 2.2643998 1.2168884 1.2169986\n",
      " 1.2168884 1.2168884 1.2168884 1.2168884 2.2693045 1.2270961 2.2651298\n",
      " 2.2683113 1.2168889 1.2168885 1.2168884 1.2168884 1.2168884 1.2168884\n",
      " 1.2168884 1.2168887 2.1950014 1.2170122 1.2168895 1.2198292 1.2168885\n",
      " 1.2168888 1.2168885 2.2616782 1.2168884 1.2169493 1.2173964 1.2180791\n",
      " 1.2405149 2.1032355 1.2168893 1.3447058 2.2606366 1.2168885 1.2171295\n",
      " 1.2168926 1.2168887 2.2339733 1.2168906 1.5471306 1.2168884 1.2168884\n",
      " 1.2168885 1.2170649 1.2677212 1.2168885 1.2168884 1.2168884 1.2168884\n",
      " 2.268531  1.2168884 1.2168938 1.2172896 1.2169714 1.2172533 1.2168885\n",
      " 1.7380447 1.2168884 1.216936  1.217087  1.223704  2.2691345 1.2977612\n",
      " 1.2168894 1.2168884 2.2692404 2.2692184 1.21689   2.1392055 2.2693064\n",
      " 2.2691927 1.2168887 1.2170205 1.216916  1.2168887 1.2168884 1.9927931\n",
      " 1.2234747 1.2168884 1.2168884 1.2168887 1.2168896 2.2427983 1.2168965\n",
      " 1.2168884 1.2168885 1.2168885 1.2168887 1.2168884 1.2168884 1.4567312\n",
      " 1.2168887 2.2648215 1.2168887 1.2168884 1.2168896 1.9804785 2.2690969\n",
      " 2.2693014 1.6395947 2.269298  1.2168884 1.2168885 1.2168884 2.2666092\n",
      " 1.2168885 1.2168884 1.2180345 1.2168887 1.2186257 1.2241749 1.2168884\n",
      " 1.2168884 1.2168885 2.0223224 1.2168885 2.1720967 1.8861217 1.2702923\n",
      " 1.2168884 1.2168884 1.2168884 1.2168885 1.21689   1.530461  1.222742\n",
      " 1.2197332 1.2168884 1.2176219 1.2168889 2.232482  1.2183393 1.2168884\n",
      " 2.2676558 1.2218516 1.2168884 1.9465545 1.2168885 1.2168889 1.2168884\n",
      " 1.3359239 1.2168887 1.2168885 1.2169372 1.6627625 2.2446766 1.6992201\n",
      " 1.2168885 1.2168885 1.2168885 1.2168884 1.4931014 1.2183092 1.2168884\n",
      " 1.3166544 1.2168885 1.2168884 1.2168884 1.2168962 1.2168884 1.2168884\n",
      " 1.216899  1.2168884 1.2168885 1.2833923 1.2168926 1.2656959 1.2169042\n",
      " 1.7026813 1.2168885 1.2168884 2.266562  1.322662  2.269305  1.2594762\n",
      " 1.2168897 1.2168895 1.2168964 1.2168885 1.2168884 1.221692  1.2168899\n",
      " 1.2168887 1.2168885 1.2168887 1.2168887 1.2168884 1.2168885 1.2185066\n",
      " 2.1397521 2.2576394 1.2169353 1.2168897 1.2181488 2.269089  2.0039773\n",
      " 1.2168895 1.2168978 1.2168885 1.2169021 2.269298  1.3040388 1.9886053\n",
      " 1.2168884 1.2168884 1.2168889 1.2168903 2.2688694 2.2633004 1.2168884\n",
      " 1.2604747 1.2168884 1.2263587 1.2168884 2.2684383 1.2191498 1.5492408\n",
      " 1.2168893 2.2654037 1.2168963 1.2168885 1.2168885], shape=(292,), dtype=float32)\n"
     ]
    }
   ],
   "source": [
    "#Evaluate the model's performance\n",
    "mse = tf.keras.losses.mean_squared_error(y_test, y_pred)\n",
    "print(\"Mean Squared Error:\", mse)"
   ]
  }
 ],
 "metadata": {
  "kernelspec": {
   "display_name": "py3TF20",
   "language": "python",
   "name": "python3"
  },
  "language_info": {
   "codemirror_mode": {
    "name": "ipython",
    "version": 3
   },
   "file_extension": ".py",
   "mimetype": "text/x-python",
   "name": "python",
   "nbconvert_exporter": "python",
   "pygments_lexer": "ipython3",
   "version": "3.9.15"
  },
  "orig_nbformat": 4,
  "vscode": {
   "interpreter": {
    "hash": "ad5dff0f1e30c868038c12d2c4e40a840e56ad4805fcb18ae1ec55f1a3fd6b96"
   }
  }
 },
 "nbformat": 4,
 "nbformat_minor": 2
}
